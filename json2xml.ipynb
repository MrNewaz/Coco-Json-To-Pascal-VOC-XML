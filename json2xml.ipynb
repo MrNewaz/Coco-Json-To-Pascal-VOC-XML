{
  "nbformat": 4,
  "nbformat_minor": 0,
  "metadata": {
    "colab": {
      "name": "json2xml.ipynb",
      "provenance": [],
      "collapsed_sections": [],
      "authorship_tag": "ABX9TyOLzOta0kbArih/6lhnM5+l",
      "include_colab_link": true
    },
    "kernelspec": {
      "name": "python3",
      "display_name": "Python 3"
    },
    "language_info": {
      "name": "python"
    }
  },
  "cells": [
    {
      "cell_type": "markdown",
      "metadata": {
        "id": "view-in-github",
        "colab_type": "text"
      },
      "source": [
        "<a href=\"https://colab.research.google.com/github/MrNewaz/Coco-Json-To-Pascal-VOC-XML/blob/master/json2xml.ipynb\" target=\"_parent\"><img src=\"https://colab.research.google.com/assets/colab-badge.svg\" alt=\"Open In Colab\"/></a>"
      ]
    },
    {
      "cell_type": "code",
      "execution_count": null,
      "metadata": {
        "colab": {
          "base_uri": "https://localhost:8080/"
        },
        "id": "c6h4FVYR6OiM",
        "outputId": "871568e8-1abf-49dd-b60b-a51c9718b15e"
      },
      "outputs": [
        {
          "output_type": "stream",
          "name": "stdout",
          "text": [
            "\n",
            "annotations_path= /content/anno/MIDOG.json\n",
            "output_dir= /content/out2 \n",
            "\n",
            "Traceback (most recent call last):\n",
            "  File \"json2xml.py\", line 174, in <module>\n",
            "    main(args)\n",
            "  File \"json2xml.py\", line 167, in main\n",
            "    convert(doc, args.output_dir)\n",
            "  File \"json2xml.py\", line 148, in convert\n",
            "    bbox_cg = id_bbox[i+1]; bbox_cg = np.array(bbox_cg)\n",
            "KeyError: 151\n"
          ]
        }
      ],
      "source": [
        "!python json2xml.py --output_dir '/content/out2' --json_annotations_path '/content/anno/MIDOG.json'"
      ]
    },
    {
      "cell_type": "code",
      "source": [
        "pwd"
      ],
      "metadata": {
        "colab": {
          "base_uri": "https://localhost:8080/",
          "height": 35
        },
        "id": "cW-_iEya7dFe",
        "outputId": "5c5263ed-9283-4d2c-8462-4538026ecb31"
      },
      "execution_count": null,
      "outputs": [
        {
          "output_type": "execute_result",
          "data": {
            "application/vnd.google.colaboratory.intrinsic+json": {
              "type": "string"
            },
            "text/plain": [
              "'/content'"
            ]
          },
          "metadata": {},
          "execution_count": 5
        }
      ]
    },
    {
      "cell_type": "code",
      "source": [
        "!zip -r /content/out.zip /content/out2"
      ],
      "metadata": {
        "colab": {
          "base_uri": "https://localhost:8080/"
        },
        "id": "NBzBUWdB8ALm",
        "outputId": "0a46d7d3-69ff-4fc0-9492-fe97c167885a"
      },
      "execution_count": null,
      "outputs": [
        {
          "output_type": "stream",
          "name": "stdout",
          "text": [
            "  adding: content/out2/ (stored 0%)\n",
            "  adding: content/out2/111..xml (deflated 85%)\n",
            "  adding: content/out2/037..xml (deflated 82%)\n",
            "  adding: content/out2/138..xml (deflated 89%)\n",
            "  adding: content/out2/001..xml (deflated 75%)\n",
            "  adding: content/out2/139..xml (deflated 93%)\n",
            "  adding: content/out2/002..xml (deflated 88%)\n",
            "  adding: content/out2/128..xml (deflated 92%)\n",
            "  adding: content/out2/102..xml (deflated 92%)\n",
            "  adding: content/out2/045..xml (deflated 87%)\n",
            "  adding: content/out2/146..xml (deflated 88%)\n",
            "  adding: content/out2/098..xml (deflated 90%)\n",
            "  adding: content/out2/038..xml (deflated 90%)\n",
            "  adding: content/out2/034..xml (deflated 93%)\n",
            "  adding: content/out2/053..xml (deflated 86%)\n",
            "  adding: content/out2/121..xml (deflated 93%)\n",
            "  adding: content/out2/122..xml (deflated 86%)\n",
            "  adding: content/out2/017..xml (deflated 80%)\n",
            "  adding: content/out2/087..xml (deflated 90%)\n",
            "  adding: content/out2/041..xml (deflated 87%)\n",
            "  adding: content/out2/120..xml (deflated 86%)\n",
            "  adding: content/out2/070..xml (deflated 92%)\n",
            "  adding: content/out2/067..xml (deflated 88%)\n",
            "  adding: content/out2/141..xml (deflated 92%)\n",
            "  adding: content/out2/150..xml (deflated 90%)\n",
            "  adding: content/out2/090..xml (deflated 90%)\n",
            "  adding: content/out2/080..xml (deflated 87%)\n",
            "  adding: content/out2/069..xml (deflated 85%)\n",
            "  adding: content/out2/024..xml (deflated 93%)\n",
            "  adding: content/out2/084..xml (deflated 93%)\n",
            "  adding: content/out2/137..xml (deflated 90%)\n",
            "  adding: content/out2/031..xml (deflated 87%)\n",
            "  adding: content/out2/083..xml (deflated 92%)\n",
            "  adding: content/out2/032..xml (deflated 90%)\n",
            "  adding: content/out2/029..xml (deflated 83%)\n",
            "  adding: content/out2/005..xml (deflated 78%)\n",
            "  adding: content/out2/022..xml (deflated 83%)\n",
            "  adding: content/out2/016..xml (deflated 91%)\n",
            "  adding: content/out2/135..xml (deflated 89%)\n",
            "  adding: content/out2/101..xml (deflated 86%)\n",
            "  adding: content/out2/093..xml (deflated 88%)\n",
            "  adding: content/out2/065..xml (deflated 84%)\n",
            "  adding: content/out2/105..xml (deflated 83%)\n",
            "  adding: content/out2/088..xml (deflated 80%)\n",
            "  adding: content/out2/068..xml (deflated 80%)\n",
            "  adding: content/out2/057..xml (deflated 92%)\n",
            "  adding: content/out2/112..xml (deflated 93%)\n",
            "  adding: content/out2/149..xml (deflated 92%)\n",
            "  adding: content/out2/063..xml (deflated 88%)\n",
            "  adding: content/out2/130..xml (deflated 91%)\n",
            "  adding: content/out2/125..xml (deflated 88%)\n",
            "  adding: content/out2/006..xml (deflated 91%)\n",
            "  adding: content/out2/147..xml (deflated 84%)\n",
            "  adding: content/out2/043..xml (deflated 89%)\n",
            "  adding: content/out2/116..xml (deflated 90%)\n",
            "  adding: content/out2/092..xml (deflated 91%)\n",
            "  adding: content/out2/064..xml (deflated 92%)\n",
            "  adding: content/out2/127..xml (deflated 87%)\n",
            "  adding: content/out2/066..xml (deflated 89%)\n",
            "  adding: content/out2/079..xml (deflated 92%)\n",
            "  adding: content/out2/061..xml (deflated 86%)\n",
            "  adding: content/out2/095..xml (deflated 74%)\n",
            "  adding: content/out2/091..xml (deflated 89%)\n",
            "  adding: content/out2/058..xml (deflated 90%)\n",
            "  adding: content/out2/114..xml (deflated 91%)\n",
            "  adding: content/out2/026..xml (deflated 86%)\n",
            "  adding: content/out2/036..xml (deflated 87%)\n",
            "  adding: content/out2/033..xml (deflated 84%)\n",
            "  adding: content/out2/143..xml (deflated 88%)\n",
            "  adding: content/out2/075..xml (deflated 88%)\n",
            "  adding: content/out2/023..xml (deflated 89%)\n",
            "  adding: content/out2/028..xml (deflated 63%)\n",
            "  adding: content/out2/107..xml (deflated 91%)\n",
            "  adding: content/out2/140..xml (deflated 91%)\n",
            "  adding: content/out2/049..xml (deflated 89%)\n",
            "  adding: content/out2/004..xml (deflated 89%)\n",
            "  adding: content/out2/126..xml (deflated 90%)\n",
            "  adding: content/out2/003..xml (deflated 90%)\n",
            "  adding: content/out2/011..xml (deflated 71%)\n",
            "  adding: content/out2/096..xml (deflated 89%)\n",
            "  adding: content/out2/078..xml (deflated 93%)\n",
            "  adding: content/out2/047..xml (deflated 90%)\n",
            "  adding: content/out2/082..xml (deflated 88%)\n",
            "  adding: content/out2/014..xml (deflated 90%)\n",
            "  adding: content/out2/136..xml (deflated 91%)\n",
            "  adding: content/out2/077..xml (deflated 82%)\n",
            "  adding: content/out2/027..xml (deflated 92%)\n",
            "  adding: content/out2/009..xml (deflated 90%)\n",
            "  adding: content/out2/018..xml (deflated 82%)\n",
            "  adding: content/out2/007..xml (deflated 91%)\n",
            "  adding: content/out2/081..xml (deflated 86%)\n",
            "  adding: content/out2/044..xml (deflated 81%)\n",
            "  adding: content/out2/042..xml (deflated 87%)\n",
            "  adding: content/out2/123..xml (deflated 93%)\n",
            "  adding: content/out2/117..xml (deflated 87%)\n",
            "  adding: content/out2/099..xml (deflated 86%)\n",
            "  adding: content/out2/131..xml (deflated 92%)\n",
            "  adding: content/out2/108..xml (deflated 91%)\n",
            "  adding: content/out2/020..xml (deflated 90%)\n",
            "  adding: content/out2/008..xml (deflated 89%)\n",
            "  adding: content/out2/124..xml (deflated 85%)\n",
            "  adding: content/out2/089..xml (deflated 83%)\n",
            "  adding: content/out2/012..xml (deflated 87%)\n",
            "  adding: content/out2/076..xml (deflated 90%)\n",
            "  adding: content/out2/118..xml (deflated 91%)\n",
            "  adding: content/out2/094..xml (deflated 93%)\n",
            "  adding: content/out2/060..xml (deflated 92%)\n",
            "  adding: content/out2/129..xml (deflated 81%)\n",
            "  adding: content/out2/071..xml (deflated 92%)\n",
            "  adding: content/out2/100..xml (deflated 93%)\n",
            "  adding: content/out2/056..xml (deflated 93%)\n",
            "  adding: content/out2/145..xml (deflated 89%)\n",
            "  adding: content/out2/144..xml (deflated 90%)\n",
            "  adding: content/out2/025..xml (deflated 84%)\n",
            "  adding: content/out2/015..xml (deflated 86%)\n",
            "  adding: content/out2/054..xml (deflated 90%)\n",
            "  adding: content/out2/051..xml (deflated 75%)\n",
            "  adding: content/out2/113..xml (deflated 91%)\n",
            "  adding: content/out2/104..xml (deflated 86%)\n",
            "  adding: content/out2/046..xml (deflated 86%)\n",
            "  adding: content/out2/106..xml (deflated 92%)\n",
            "  adding: content/out2/035..xml (deflated 88%)\n",
            "  adding: content/out2/072..xml (deflated 93%)\n",
            "  adding: content/out2/134..xml (deflated 93%)\n",
            "  adding: content/out2/073..xml (deflated 89%)\n",
            "  adding: content/out2/019..xml (deflated 82%)\n",
            "  adding: content/out2/055..xml (deflated 83%)\n",
            "  adding: content/out2/115..xml (deflated 86%)\n",
            "  adding: content/out2/133..xml (deflated 88%)\n",
            "  adding: content/out2/062..xml (deflated 88%)\n",
            "  adding: content/out2/142..xml (deflated 89%)\n",
            "  adding: content/out2/050..xml (deflated 91%)\n",
            "  adding: content/out2/059..xml (deflated 92%)\n",
            "  adding: content/out2/097..xml (deflated 83%)\n",
            "  adding: content/out2/119..xml (deflated 70%)\n",
            "  adding: content/out2/109..xml (deflated 90%)\n",
            "  adding: content/out2/048..xml (deflated 83%)\n",
            "  adding: content/out2/052..xml (deflated 84%)\n",
            "  adding: content/out2/040..xml (deflated 92%)\n",
            "  adding: content/out2/030..xml (deflated 90%)\n",
            "  adding: content/out2/086..xml (deflated 91%)\n",
            "  adding: content/out2/110..xml (deflated 88%)\n",
            "  adding: content/out2/021..xml (deflated 87%)\n",
            "  adding: content/out2/074..xml (deflated 82%)\n",
            "  adding: content/out2/085..xml (deflated 87%)\n",
            "  adding: content/out2/010..xml (deflated 90%)\n",
            "  adding: content/out2/013..xml (deflated 91%)\n",
            "  adding: content/out2/103..xml (deflated 89%)\n",
            "  adding: content/out2/039..xml (deflated 92%)\n",
            "  adding: content/out2/148..xml (deflated 78%)\n",
            "  adding: content/out2/132..xml (deflated 63%)\n"
          ]
        }
      ]
    },
    {
      "cell_type": "code",
      "source": [
        ""
      ],
      "metadata": {
        "id": "iACatMaG-TEF"
      },
      "execution_count": null,
      "outputs": []
    }
  ]
}